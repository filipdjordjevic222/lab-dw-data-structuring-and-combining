{
 "cells": [
  {
   "cell_type": "markdown",
   "id": "25d7736c-ba17-4aff-b6bb-66eba20fbf4e",
   "metadata": {
    "editable": true,
    "id": "25d7736c-ba17-4aff-b6bb-66eba20fbf4e",
    "slideshow": {
     "slide_type": ""
    },
    "tags": []
   },
   "source": [
    "# Lab | Data Structuring and Combining Data"
   ]
  },
  {
   "cell_type": "markdown",
   "id": "a2cdfc70-44c8-478c-81e7-2bc43fdf4986",
   "metadata": {
    "editable": true,
    "id": "a2cdfc70-44c8-478c-81e7-2bc43fdf4986",
    "slideshow": {
     "slide_type": ""
    },
    "tags": []
   },
   "source": [
    "## Challenge 1: Combining & Cleaning Data\n",
    "\n",
    "In this challenge, we will be working with the customer data from an insurance company, as we did in the two previous labs. The data can be found here:\n",
    "- https://raw.githubusercontent.com/data-bootcamp-v4/data/main/file1.csv\n",
    "\n",
    "But this time, we got new data, which can be found in the following 2 CSV files located at the links below.\n",
    "\n",
    "- https://raw.githubusercontent.com/data-bootcamp-v4/data/main/file2.csv\n",
    "- https://raw.githubusercontent.com/data-bootcamp-v4/data/main/file3.csv\n",
    "\n",
    "Note that you'll need to clean and format the new data.\n",
    "\n",
    "Observation:\n",
    "- One option is to first combine the three datasets and then apply the cleaning function to the new combined dataset\n",
    "- Another option would be to read the clean file you saved in the previous lab, and just clean the two new files and concatenate the three clean datasets"
   ]
  },
  {
   "cell_type": "code",
   "execution_count": 1822,
   "id": "4c341e29-bcea-4629-bf30-c316ff569048",
   "metadata": {
    "editable": true,
    "slideshow": {
     "slide_type": ""
    },
    "tags": []
   },
   "outputs": [],
   "source": [
    "import pandas as pd\n",
    "import numpy as np\n",
    "url= \" https://raw.githubusercontent.com/data-bootcamp-v4/data/main/file1.csv\"\n",
    "url1 = \"https://raw.githubusercontent.com/data-bootcamp-v4/data/main/file2.csv\"\n",
    "url2 =\"https://raw.githubusercontent.com/data-bootcamp-v4/data/main/file3.csv\"\n",
    "file1 = pd.read_csv(\"https://raw.githubusercontent.com/data-bootcamp-v4/data/main/file2.csv\")\n",
    "file2=pd.read_csv(\"https://raw.githubusercontent.com/data-bootcamp-v4/data/main/file3.csv\")\n",
    "file = pd.read_csv(\"https://raw.githubusercontent.com/data-bootcamp-v4/data/main/file1.csv\")"
   ]
  },
  {
   "cell_type": "code",
   "execution_count": 1823,
   "id": "c02cccf2-5334-473e-bd8a-192868e02235",
   "metadata": {},
   "outputs": [
    {
     "name": "stdout",
     "output_type": "stream",
     "text": [
      "Index(['customer', 'state', 'gender', 'education', 'customer_lifetime_value',\n",
      "       'income', 'monthly_premium_auto', 'number_of_open_complaints',\n",
      "       'policy_type', 'vehicle_class', 'total_claim_amount'],\n",
      "      dtype='object')\n"
     ]
    }
   ],
   "source": [
    "def rename_columns(df):\n",
    "    \"\"\"Rename DataFrame columns to specified names.\"\"\"\n",
    "    df.columns = [\n",
    "        'customer', 'state', 'gender', 'education', 'customer_lifetime_value',\n",
    "        'income', 'monthly_premium_auto', 'number_of_open_complaints',\n",
    "        'policy_type', 'vehicle_class', 'total_claim_amount'\n",
    "    ]\n",
    "    return df\n",
    "file1 = rename_columns(file1)\n",
    "\n",
    "print(file1.columns)"
   ]
  },
  {
   "cell_type": "code",
   "execution_count": 1824,
   "id": "b1719ae2-1b1f-446f-9169-e5416d911da6",
   "metadata": {
    "editable": true,
    "slideshow": {
     "slide_type": ""
    },
    "tags": []
   },
   "outputs": [
    {
     "data": {
      "text/plain": [
       "array(['F', 'M', nan, 'female', 'Male'], dtype=object)"
      ]
     },
     "execution_count": 1824,
     "metadata": {},
     "output_type": "execute_result"
    }
   ],
   "source": [
    "file1[\"gender\"].unique()\n"
   ]
  },
  {
   "cell_type": "code",
   "execution_count": 1828,
   "id": "46c02cd1-b2cd-4fbf-8d7b-3653c22b9535",
   "metadata": {},
   "outputs": [],
   "source": [
    "file1[\"gender\"].unique()\n",
    "#clean_values\n",
    "def replace_gender(df):\n",
    "    \"\"\"Replace gender values with standardized values.\"\"\"\n",
    "    df[\"gender\"] = df[\"gender\"].replace({\n",
    "        'Femal': 'F', \n",
    "        'Male': 'M', \n",
    "        'female': 'F'\n",
    "    })\n",
    "    return df\n",
    "file1=replace_gender(file1)\n"
   ]
  },
  {
   "cell_type": "code",
   "execution_count": 1830,
   "id": "1471c576-e2e3-4330-a18e-31aab8990263",
   "metadata": {},
   "outputs": [
    {
     "data": {
      "text/plain": [
       "array(['F', 'M', nan], dtype=object)"
      ]
     },
     "execution_count": 1830,
     "metadata": {},
     "output_type": "execute_result"
    }
   ],
   "source": [
    "file1[\"gender\"].unique()"
   ]
  },
  {
   "cell_type": "code",
   "execution_count": 1832,
   "id": "0e4bf8d6-f797-45f9-9ced-ef70abc43813",
   "metadata": {},
   "outputs": [
    {
     "data": {
      "text/plain": [
       "array(['Arizona', 'California', 'Oregon', 'Nevada', 'Washington', 'AZ'],\n",
       "      dtype=object)"
      ]
     },
     "execution_count": 1832,
     "metadata": {},
     "output_type": "execute_result"
    }
   ],
   "source": [
    "file1[\"state\"].unique()"
   ]
  },
  {
   "cell_type": "code",
   "execution_count": 1834,
   "id": "fa172e53-3758-4f8e-a7b7-3d01fa0c7372",
   "metadata": {},
   "outputs": [],
   "source": [
    "def replace_state(df):\n",
    "    \"\"\"Replace state abbreviations with full names.\"\"\"\n",
    "    df[\"state\"] = df[\"state\"].replace({'Cali': 'California', 'AZ': 'Arizona', 'WA': 'Washington'})\n",
    "    return df\n",
    "file1=replace_state(file1)"
   ]
  },
  {
   "cell_type": "code",
   "execution_count": 1836,
   "id": "b07a7633-c584-4609-b26b-8a78a321a7f8",
   "metadata": {},
   "outputs": [
    {
     "data": {
      "text/plain": [
       "array(['Arizona', 'California', 'Oregon', 'Nevada', 'Washington'],\n",
       "      dtype=object)"
      ]
     },
     "execution_count": 1836,
     "metadata": {},
     "output_type": "execute_result"
    }
   ],
   "source": [
    "file1[\"state\"].unique()"
   ]
  },
  {
   "cell_type": "code",
   "execution_count": 1838,
   "id": "54ef4aa7-70e1-4b73-9c2b-feb1e409dbd1",
   "metadata": {},
   "outputs": [],
   "source": [
    "def replace_education(df):\n",
    "    \"\"\"Standardize education values.\"\"\"\n",
    "    df[\"education\"] = df[\"education\"].replace({'Bachelors': 'Bachelor'})\n",
    "    return df\n",
    "file1=replace_education(file1)"
   ]
  },
  {
   "cell_type": "code",
   "execution_count": 1840,
   "id": "28b58b84-a2fc-4e9a-bfe8-efe183ee90a3",
   "metadata": {},
   "outputs": [
    {
     "data": {
      "text/plain": [
       "array(['Bachelor', 'Master', 'College', 'Doctor', 'High School or Below'],\n",
       "      dtype=object)"
      ]
     },
     "execution_count": 1840,
     "metadata": {},
     "output_type": "execute_result"
    }
   ],
   "source": [
    "file1[\"education\"].unique()"
   ]
  },
  {
   "cell_type": "code",
   "execution_count": 1842,
   "id": "467c7e18-b5c7-4e2e-b8da-037ec5fa310a",
   "metadata": {},
   "outputs": [],
   "source": [
    "def strip_percentage(df):\n",
    "    \"\"\"Strip the percentage sign from the customer lifetime value column.\"\"\"\n",
    "    df[\"customer_lifetime_value\"] = df[\"customer_lifetime_value\"].str.strip('%')\n",
    "    df[\"customer_lifetime_value\"]=pd.to_numeric(df[\"customer_lifetime_value\"])\n",
    "    return df\n",
    "file1=strip_percentage(file1)"
   ]
  },
  {
   "cell_type": "code",
   "execution_count": 1844,
   "id": "373af733-8179-4244-9145-421eb188b35f",
   "metadata": {},
   "outputs": [],
   "source": [
    "def replace_vehicle_class(df):\n",
    "    \"\"\"Standardize vehicle class values.\"\"\"\n",
    "    df[\"vehicle_class\"] = df[\"vehicle_class\"].replace({'Sports Car': 'Luxury', 'Luxury SUV': 'Luxury', 'Luxury Car': 'Luxury'})\n",
    "    return df\n",
    "file1=replace_vehicle_class(file1)"
   ]
  },
  {
   "cell_type": "code",
   "execution_count": 1846,
   "id": "3a7992a4-4941-4bdc-bea3-dfd688b6f575",
   "metadata": {},
   "outputs": [],
   "source": [
    "# clean_missing_values\n",
    "def clean_dataframe(df):\n",
    "    df_cleaned = df.dropna()\n",
    "\n",
    "    return df_cleaned\n",
    "file1= clean_dataframe(file1) "
   ]
  },
  {
   "cell_type": "code",
   "execution_count": 1848,
   "id": "a2fee805-cb21-4939-8961-6925400cc434",
   "metadata": {},
   "outputs": [],
   "source": [
    "def clean_duplicates(df):\n",
    "    df_clean_duplicate=df.drop_duplicates(keep=\"first\")\n",
    "\n",
    "    df_clean_duplicate.reset_index(drop=True, inplace=True)\n",
    "    return df_clean_duplicate\n",
    "file1= clean_duplicates(file1)"
   ]
  },
  {
   "cell_type": "code",
   "execution_count": 1850,
   "id": "36250a5c-5c0a-43ed-96d9-73ecc8ce61d8",
   "metadata": {},
   "outputs": [],
   "source": [
    "#open complains\n",
    "def process_open_complaints(df):\n",
    "    \"\"\"Extract and convert the second part of the number_of_open_complaints.\"\"\"\n",
    "    \n",
    "    df[\"number_of_open_complaints\"] = df[\"number_of_open_complaints\"].astype(str)\n",
    "\n",
    "    df[\"number_of_open_complaints\"] = df[\"number_of_open_complaints\"].str.split('/').str[1]\n",
    "    \n",
    "    df[\"number_of_open_complaints\"] = pd.to_numeric(df[\"number_of_open_complaints\"], errors='coerce')\n",
    "    \n",
    "    return df\n",
    "\n",
    "file1 = process_open_complaints(file1)"
   ]
  },
  {
   "cell_type": "code",
   "execution_count": 1852,
   "id": "541f8d74-2e27-4e59-8f31-331bc1d52564",
   "metadata": {},
   "outputs": [
    {
     "name": "stdout",
     "output_type": "stream",
     "text": [
      "Index(['customer', 'state', 'gender', 'education', 'customer_lifetime_value',\n",
      "       'income', 'monthly_premium_auto', 'number_of_open_complaints',\n",
      "       'total_claim_amount', 'policy_type', 'vehicle_class'],\n",
      "      dtype='object')\n"
     ]
    }
   ],
   "source": [
    "###################file 2########\n",
    "\n",
    "def rename_columns(df):\n",
    "    \"\"\"Rename DataFrame columns to specified names.\"\"\"\n",
    "    df.columns = [\n",
    "        'customer', 'state', 'gender', 'education', 'customer_lifetime_value',\n",
    "       'income', 'monthly_premium_auto', 'number_of_open_complaints',\n",
    "       'total_claim_amount', 'policy_type', 'vehicle_class'\n",
    "    ]\n",
    "    return df\n",
    "file2 = rename_columns(file2)\n",
    "\n",
    "print(file2.columns)"
   ]
  },
  {
   "cell_type": "code",
   "execution_count": 1854,
   "id": "ddfe2895-03d7-4f4c-90c6-6ba27ec79cf7",
   "metadata": {},
   "outputs": [],
   "source": [
    "\n",
    "#clean_values\n",
    "def replace_gender(df):\n",
    "    \"\"\"Replace gender values with standardized values.\"\"\"\n",
    "    df[\"gender\"] = df[\"gender\"].replace({\n",
    "        'female':'F',\n",
    "        'Male':'M'\n",
    "    })\n",
    "    return df\n",
    "file2=replace_gender(file2)\n"
   ]
  },
  {
   "cell_type": "code",
   "execution_count": 1856,
   "id": "eccb67c3-bc3d-4324-a86c-515324f6ef0c",
   "metadata": {},
   "outputs": [],
   "source": [
    "def replace_state(df):\n",
    "    \"\"\"Replace state abbreviations with full names.\"\"\"\n",
    "    df[\"state\"] = df[\"state\"].replace({'AZ': 'Arizona'})\n",
    "    return df\n",
    "file2=replace_state(file2)"
   ]
  },
  {
   "cell_type": "code",
   "execution_count": 1858,
   "id": "493244ad-acfe-4379-a4d3-f862018aeeb6",
   "metadata": {},
   "outputs": [
    {
     "data": {
      "text/plain": [
       "array(['Washington', 'Arizona', 'Nevada', 'California', 'Oregon'],\n",
       "      dtype=object)"
      ]
     },
     "execution_count": 1858,
     "metadata": {},
     "output_type": "execute_result"
    }
   ],
   "source": [
    "file2[\"state\"].unique()"
   ]
  },
  {
   "cell_type": "code",
   "execution_count": 1860,
   "id": "c2b30639-50ef-4d60-9f9c-08f26170f58c",
   "metadata": {},
   "outputs": [],
   "source": [
    "def replace_education(df):\n",
    "    \"\"\"Standardize education values.\"\"\"\n",
    "    df[\"education\"] = df[\"education\"].replace({'Bachelors': 'Bachelor'})\n",
    "    return df\n",
    "file2=replace_education(file2)"
   ]
  },
  {
   "cell_type": "code",
   "execution_count": 1862,
   "id": "caad78fd-81c4-4d61-a99a-c555c73fee47",
   "metadata": {},
   "outputs": [
    {
     "data": {
      "text/plain": [
       "array(['High School or Below', 'Master', 'Bachelor', 'College', 'Doctor'],\n",
       "      dtype=object)"
      ]
     },
     "execution_count": 1862,
     "metadata": {},
     "output_type": "execute_result"
    }
   ],
   "source": [
    "file2[\"education\"].unique()"
   ]
  },
  {
   "cell_type": "code",
   "execution_count": 1864,
   "id": "c1325483-20a1-42ad-ba7e-d18a9c0be12f",
   "metadata": {},
   "outputs": [],
   "source": [
    "\n",
    "def strip_percentage(df):\n",
    "    \"\"\"Strip percentage sign from 'customer_lifetime_value' column and convert to numeric.\"\"\"\n",
    "    \n",
    "    # Convert the series to string first\n",
    "    df[\"customer_lifetime_value\"] = df[\"customer_lifetime_value\"].astype(str)\n",
    "    \n",
    "    # Replace 'nan' with np.nan without using inplace\n",
    "    df[\"customer_lifetime_value\"] = df[\"customer_lifetime_value\"].replace('nan', np.nan)\n",
    "    \n",
    "    # Strip percentage sign\n",
    "    df[\"customer_lifetime_value\"] = df[\"customer_lifetime_value\"].str.strip('%')\n",
    "    \n",
    "    # Convert to numeric, coercing errors\n",
    "    #df[\"customer_lifetime_value\"] = pd.to_numeric(df[\"customer_lifetime_value\"], errors='coerce')\n",
    "    \n",
    "    return df\n",
    "file2 = strip_percentage(file2)\n",
    "\n",
    "def clean_dataframe(df):\n",
    "    df_cleaned = df.dropna(subset=['number_of_open_complaints'])\n",
    "    return df_cleaned\n",
    "file2= clean_dataframe(file2) \n",
    "\n",
    "def replace_vehicle_class(df):\n",
    "    \"\"\"Standardize vehicle class values.\"\"\"\n",
    "    df[\"vehicle_class\"] = df[\"vehicle_class\"].replace({'Sports Car': 'Luxury', 'Luxury SUV': 'Luxury', 'Luxury Car': 'Luxury'})\n",
    "    return df\n",
    "file2=replace_vehicle_class(file2)\n",
    "\n",
    "def clean_duplicates(df):\n",
    "    df_clean_duplicate=df.drop_duplicates(keep=\"first\")\n",
    "\n",
    "    df_clean_duplicate.reset_index(drop=True, inplace=True)\n",
    "    return df_clean_duplicate\n",
    "file2= clean_duplicates(file2)\n",
    "\n",
    "def process_open_complaints(df):\n",
    "\n",
    "    \n",
    " #   \"\"\"Extract and convert the second part of the number_of_open_complaints.\"\"\"\n",
    "    \n",
    " #   df[\"number_of_open_complaints\"] = df[\"number_of_open_complaints\"].astype(str)\n",
    "\n",
    "  #  df[\"number_of_open_complaints\"] = df[\"number_of_open_complaints\"].str.split('/').str[1]\n",
    "    \n",
    "   df[\"number_of_open_complaints\"] = pd.to_numeric(df[\"number_of_open_complaints\"], errors='coerce')\n",
    "    \n",
    "   return df\n",
    "\n"
   ]
  },
  {
   "cell_type": "code",
   "execution_count": 1866,
   "id": "828d6f82-ddeb-43a5-8ab2-a3e3c5bdb22f",
   "metadata": {},
   "outputs": [
    {
     "data": {
      "text/plain": [
       "array([0, 1, 3, 5, 2, 4])"
      ]
     },
     "execution_count": 1866,
     "metadata": {},
     "output_type": "execute_result"
    }
   ],
   "source": [
    "file1[\"number_of_open_complaints\"].unique()"
   ]
  },
  {
   "cell_type": "code",
   "execution_count": 1868,
   "id": "fbd46e15-a392-401f-b701-38e8368ab0d5",
   "metadata": {},
   "outputs": [
    {
     "data": {
      "text/plain": [
       "Index(['Customer', 'ST', 'GENDER', 'Education', 'Customer Lifetime Value',\n",
       "       'Income', 'Monthly Premium Auto', 'Number of Open Complaints',\n",
       "       'Policy Type', 'Vehicle Class', 'Total Claim Amount'],\n",
       "      dtype='object')"
      ]
     },
     "execution_count": 1868,
     "metadata": {},
     "output_type": "execute_result"
    }
   ],
   "source": [
    "#file\n",
    "file.columns\n"
   ]
  },
  {
   "cell_type": "code",
   "execution_count": 1870,
   "id": "6c9667c6-bb0a-47c3-884c-29f88d2aae46",
   "metadata": {},
   "outputs": [
    {
     "name": "stdout",
     "output_type": "stream",
     "text": [
      "Index(['customer', 'state', 'gender', 'education', 'customer_lifetime_value',\n",
      "       'income', 'monthly_premium_auto', 'number_of_open_complaints',\n",
      "       'policy_type', 'vehicle_class', 'total_claim_amount'],\n",
      "      dtype='object')\n"
     ]
    }
   ],
   "source": [
    "def rename_columns(df):\n",
    "    \"\"\"Rename DataFrame columns to specified names.\"\"\"\n",
    "    df.columns = [\n",
    "        'customer', 'state', 'gender', 'education', 'customer_lifetime_value',\n",
    "        'income', 'monthly_premium_auto', 'number_of_open_complaints',\n",
    "        'policy_type', 'vehicle_class', 'total_claim_amount'\n",
    "    ]\n",
    "    return df\n",
    "file = rename_columns(file)\n",
    "\n",
    "print(file.columns)"
   ]
  },
  {
   "cell_type": "code",
   "execution_count": 1872,
   "id": "f14cdf8c-4cb2-4113-a664-9a7f9bfeeaad",
   "metadata": {},
   "outputs": [],
   "source": [
    "file[\"gender\"]= file[\"gender\"].replace({ 'Femal': 'F', 'Male': 'M', 'female': 'F'})"
   ]
  },
  {
   "cell_type": "code",
   "execution_count": 1874,
   "id": "86e08571-cc1f-4909-a74e-b4a6543fd50b",
   "metadata": {
    "editable": true,
    "slideshow": {
     "slide_type": ""
    },
    "tags": []
   },
   "outputs": [],
   "source": [
    "file[\"state\"]= file[\"state\"].replace({'Cali': 'California', 'AZ':'Arizona', 'WA': 'Washington'})"
   ]
  },
  {
   "cell_type": "code",
   "execution_count": 1876,
   "id": "5a4bc63a-ef72-49e7-aac6-c4f1f45a0bac",
   "metadata": {},
   "outputs": [],
   "source": [
    "file[\"education\"]=file[\"education\"].replace({'Bachelors':'Bachelor'})"
   ]
  },
  {
   "cell_type": "code",
   "execution_count": 1878,
   "id": "a0a81d59-c41d-42fb-91bd-1bc0d6b7d8a5",
   "metadata": {
    "editable": true,
    "slideshow": {
     "slide_type": ""
    },
    "tags": []
   },
   "outputs": [],
   "source": [
    "def strip_percentage(df):\n",
    "    \"\"\"Strip percentage sign from 'customer_lifetime_value' column and convert to numeric.\"\"\"\n",
    "    \n",
    "    # Convert to string to work with .str accessor\n",
    "    df[\"customer_lifetime_value\"] = df[\"customer_lifetime_value\"].astype(str)\n",
    "    \n",
    "    # Remove percentage sign\n",
    "    df[\"customer_lifetime_value\"] = df[\"customer_lifetime_value\"].str.strip('%')\n",
    "    \n",
    "    # Convert to numeric and coerce errors\n",
    "    df[\"customer_lifetime_value\"] = pd.to_numeric(df[\"customer_lifetime_value\"], errors='coerce')\n",
    "    \n",
    "    return df\n",
    "\n",
    "# Apply the function\n",
    "file = strip_percentage(file)"
   ]
  },
  {
   "cell_type": "code",
   "execution_count": 1880,
   "id": "58e7385d-0eda-4204-9981-24b6a4f8e310",
   "metadata": {
    "editable": true,
    "scrolled": true,
    "slideshow": {
     "slide_type": ""
    },
    "tags": []
   },
   "outputs": [],
   "source": [
    "file[\"vehicle_class\"]=file[\"vehicle_class\"].replace({'Sports Car':'Luxury', 'Luxury SUV':'Luxury' , 'Luxury Car': 'Luxury'})\n"
   ]
  },
  {
   "cell_type": "code",
   "execution_count": 1882,
   "id": "a765ef76-0f62-4124-827b-c118d46ebe22",
   "metadata": {},
   "outputs": [],
   "source": [
    "\n",
    "def strip_percentage(df):\n",
    "    \"\"\"Strip percentage sign from 'customer_lifetime_value' column and convert to numeric.\"\"\"\n",
    "    \n",
    "    # Convert the series to string first\n",
    "    df[\"customer_lifetime_value\"] = df[\"customer_lifetime_value\"].astype(str)\n",
    "    \n",
    "    # Replace 'nan' with np.nan without using inplace\n",
    "    df[\"customer_lifetime_value\"] = df[\"customer_lifetime_value\"].replace('nan', np.nan)\n",
    "    \n",
    "    # Strip percentage sign\n",
    "    df[\"customer_lifetime_value\"] = df[\"customer_lifetime_value\"].str.strip('%')\n",
    "    \n",
    "    # Convert to numeric, coercing errors\n",
    "    df[\"customer_lifetime_value\"] = pd.to_numeric(df[\"customer_lifetime_value\"], errors='coerce')\n",
    "    \n",
    "    return df\n",
    "\n",
    "# Apply the function\n",
    "file = strip_percentage(file)\n",
    "\n",
    "def replace_vehicle_class(df):\n",
    "    \"\"\"Standardize vehicle class values.\"\"\"\n",
    "    df[\"vehicle_class\"] = df[\"vehicle_class\"].replace({'Sports Car': 'Luxury', 'Luxury SUV': 'Luxury', 'Luxury Car': 'Luxury'})\n",
    "    return df\n",
    "file=replace_vehicle_class(file)\n",
    "\n",
    "def clean_duplicates(df):\n",
    "    df_clean_duplicate=df.drop_duplicates(keep=\"first\")\n",
    "\n",
    "    df_clean_duplicate.reset_index(drop=True, inplace=True)\n",
    "    return df_clean_duplicate\n",
    "file= clean_duplicates(file)\n",
    "\n",
    "def process_open_complaints(df):\n",
    "    \"\"\"Extract and convert the second part of the number_of_open_complaints.\"\"\"\n",
    "    \n",
    "    df[\"number_of_open_complaints\"] = df[\"number_of_open_complaints\"].astype(str)\n",
    "\n",
    "    df[\"number_of_open_complaints\"] = df[\"number_of_open_complaints\"].str.split('/').str[1]\n",
    "    \n",
    "    df[\"number_of_open_complaints\"] = pd.to_numeric(df[\"number_of_open_complaints\"], errors='coerce')\n",
    "    \n",
    "    return df\n",
    "\n",
    "file = process_open_complaints(file)"
   ]
  },
  {
   "cell_type": "code",
   "execution_count": 1884,
   "id": "fce8cf66-2081-409a-b108-c9c48ba44f65",
   "metadata": {},
   "outputs": [
    {
     "data": {
      "text/plain": [
       "Index(['customer', 'state', 'gender', 'education', 'customer_lifetime_value',\n",
       "       'income', 'monthly_premium_auto', 'number_of_open_complaints',\n",
       "       'policy_type', 'vehicle_class', 'total_claim_amount'],\n",
       "      dtype='object')"
      ]
     },
     "execution_count": 1884,
     "metadata": {},
     "output_type": "execute_result"
    }
   ],
   "source": [
    "file.columns"
   ]
  },
  {
   "cell_type": "code",
   "execution_count": 1886,
   "id": "a1d2ae5c-c33f-4ab3-8175-b14c01118513",
   "metadata": {},
   "outputs": [
    {
     "data": {
      "text/plain": [
       "Index(['customer', 'state', 'gender', 'education', 'customer_lifetime_value',\n",
       "       'income', 'monthly_premium_auto', 'number_of_open_complaints',\n",
       "       'policy_type', 'vehicle_class', 'total_claim_amount'],\n",
       "      dtype='object')"
      ]
     },
     "execution_count": 1886,
     "metadata": {},
     "output_type": "execute_result"
    }
   ],
   "source": [
    "file1.columns"
   ]
  },
  {
   "cell_type": "code",
   "execution_count": 1888,
   "id": "8c3016dd-f954-4fa6-b359-50573b4de115",
   "metadata": {},
   "outputs": [
    {
     "data": {
      "text/plain": [
       "Index(['customer', 'state', 'gender', 'education', 'customer_lifetime_value',\n",
       "       'income', 'monthly_premium_auto', 'number_of_open_complaints',\n",
       "       'total_claim_amount', 'policy_type', 'vehicle_class'],\n",
       "      dtype='object')"
      ]
     },
     "execution_count": 1888,
     "metadata": {},
     "output_type": "execute_result"
    }
   ],
   "source": [
    "file2.columns"
   ]
  },
  {
   "cell_type": "code",
   "execution_count": 1890,
   "id": "47bc15c7-1674-4756-86f2-6bb689426338",
   "metadata": {
    "editable": true,
    "slideshow": {
     "slide_type": ""
    },
    "tags": []
   },
   "outputs": [],
   "source": [
    "colums_standard=['customer', 'state', 'gender', 'education', 'customer_lifetime_value',\n",
    "       'income', 'monthly_premium_auto', 'number_of_open_complaints',\n",
    "       'policy_type', 'vehicle_class', 'total_claim_amount']"
   ]
  },
  {
   "cell_type": "code",
   "execution_count": 1892,
   "id": "5d6b5e3b-0122-4023-b451-6e4b70620f7d",
   "metadata": {},
   "outputs": [],
   "source": [
    "df_files=[file,file1,file2]\n",
    "df_files=[df.reindex(columns=colums_standard)for f in df_files]\n",
    "\n"
   ]
  },
  {
   "cell_type": "code",
   "execution_count": 1894,
   "id": "17fba877-0157-4863-82a9-f2ec1ab35900",
   "metadata": {
    "editable": true,
    "slideshow": {
     "slide_type": ""
    },
    "tags": []
   },
   "outputs": [
    {
     "data": {
      "text/html": [
       "<div>\n",
       "<style scoped>\n",
       "    .dataframe tbody tr th:only-of-type {\n",
       "        vertical-align: middle;\n",
       "    }\n",
       "\n",
       "    .dataframe tbody tr th {\n",
       "        vertical-align: top;\n",
       "    }\n",
       "\n",
       "    .dataframe thead th {\n",
       "        text-align: right;\n",
       "    }\n",
       "</style>\n",
       "<table border=\"1\" class=\"dataframe\">\n",
       "  <thead>\n",
       "    <tr style=\"text-align: right;\">\n",
       "      <th></th>\n",
       "      <th>customer</th>\n",
       "      <th>state</th>\n",
       "      <th>gender</th>\n",
       "      <th>education</th>\n",
       "      <th>customer_lifetime_value</th>\n",
       "      <th>income</th>\n",
       "      <th>monthly_premium_auto</th>\n",
       "      <th>number_of_open_complaints</th>\n",
       "      <th>policy_type</th>\n",
       "      <th>vehicle_class</th>\n",
       "      <th>total_claim_amount</th>\n",
       "    </tr>\n",
       "  </thead>\n",
       "  <tbody>\n",
       "    <tr>\n",
       "      <th>0</th>\n",
       "      <td>GS98873</td>\n",
       "      <td>Arizona</td>\n",
       "      <td>F</td>\n",
       "      <td>Bachelor</td>\n",
       "      <td>323912.47</td>\n",
       "      <td>16061</td>\n",
       "      <td>88.0</td>\n",
       "      <td>1/0/00</td>\n",
       "      <td>633.600000</td>\n",
       "      <td>Personal Auto</td>\n",
       "      <td>Four-Door Car</td>\n",
       "    </tr>\n",
       "    <tr>\n",
       "      <th>1</th>\n",
       "      <td>CW49887</td>\n",
       "      <td>California</td>\n",
       "      <td>F</td>\n",
       "      <td>Master</td>\n",
       "      <td>462680.11</td>\n",
       "      <td>79487</td>\n",
       "      <td>114.0</td>\n",
       "      <td>1/0/00</td>\n",
       "      <td>547.200000</td>\n",
       "      <td>Special Auto</td>\n",
       "      <td>SUV</td>\n",
       "    </tr>\n",
       "    <tr>\n",
       "      <th>2</th>\n",
       "      <td>MY31220</td>\n",
       "      <td>California</td>\n",
       "      <td>F</td>\n",
       "      <td>College</td>\n",
       "      <td>899704.02</td>\n",
       "      <td>54230</td>\n",
       "      <td>112.0</td>\n",
       "      <td>1/0/00</td>\n",
       "      <td>537.600000</td>\n",
       "      <td>Personal Auto</td>\n",
       "      <td>Two-Door Car</td>\n",
       "    </tr>\n",
       "    <tr>\n",
       "      <th>3</th>\n",
       "      <td>UH35128</td>\n",
       "      <td>Oregon</td>\n",
       "      <td>F</td>\n",
       "      <td>College</td>\n",
       "      <td>2580706.30</td>\n",
       "      <td>71210</td>\n",
       "      <td>214.0</td>\n",
       "      <td>1/1/00</td>\n",
       "      <td>1027.200000</td>\n",
       "      <td>Personal Auto</td>\n",
       "      <td>Luxury Car</td>\n",
       "    </tr>\n",
       "    <tr>\n",
       "      <th>4</th>\n",
       "      <td>WH52799</td>\n",
       "      <td>Arizona</td>\n",
       "      <td>F</td>\n",
       "      <td>College</td>\n",
       "      <td>380812.21</td>\n",
       "      <td>94903</td>\n",
       "      <td>94.0</td>\n",
       "      <td>1/0/00</td>\n",
       "      <td>451.200000</td>\n",
       "      <td>Corporate Auto</td>\n",
       "      <td>Two-Door Car</td>\n",
       "    </tr>\n",
       "    <tr>\n",
       "      <th>...</th>\n",
       "      <td>...</td>\n",
       "      <td>...</td>\n",
       "      <td>...</td>\n",
       "      <td>...</td>\n",
       "      <td>...</td>\n",
       "      <td>...</td>\n",
       "      <td>...</td>\n",
       "      <td>...</td>\n",
       "      <td>...</td>\n",
       "      <td>...</td>\n",
       "      <td>...</td>\n",
       "    </tr>\n",
       "    <tr>\n",
       "      <th>983</th>\n",
       "      <td>HV85198</td>\n",
       "      <td>Arizona</td>\n",
       "      <td>M</td>\n",
       "      <td>Master</td>\n",
       "      <td>847141.75</td>\n",
       "      <td>63513</td>\n",
       "      <td>70.0</td>\n",
       "      <td>1/0/00</td>\n",
       "      <td>185.667213</td>\n",
       "      <td>Personal Auto</td>\n",
       "      <td>Four-Door Car</td>\n",
       "    </tr>\n",
       "    <tr>\n",
       "      <th>984</th>\n",
       "      <td>BS91566</td>\n",
       "      <td>Arizona</td>\n",
       "      <td>F</td>\n",
       "      <td>College</td>\n",
       "      <td>543121.91</td>\n",
       "      <td>58161</td>\n",
       "      <td>68.0</td>\n",
       "      <td>1/0/00</td>\n",
       "      <td>140.747286</td>\n",
       "      <td>Corporate Auto</td>\n",
       "      <td>Four-Door Car</td>\n",
       "    </tr>\n",
       "    <tr>\n",
       "      <th>985</th>\n",
       "      <td>IL40123</td>\n",
       "      <td>Nevada</td>\n",
       "      <td>F</td>\n",
       "      <td>College</td>\n",
       "      <td>568964.41</td>\n",
       "      <td>83640</td>\n",
       "      <td>70.0</td>\n",
       "      <td>1/0/00</td>\n",
       "      <td>471.050488</td>\n",
       "      <td>Corporate Auto</td>\n",
       "      <td>Two-Door Car</td>\n",
       "    </tr>\n",
       "    <tr>\n",
       "      <th>986</th>\n",
       "      <td>MY32149</td>\n",
       "      <td>California</td>\n",
       "      <td>F</td>\n",
       "      <td>Master</td>\n",
       "      <td>368672.38</td>\n",
       "      <td>0</td>\n",
       "      <td>96.0</td>\n",
       "      <td>1/0/00</td>\n",
       "      <td>28.460568</td>\n",
       "      <td>Personal Auto</td>\n",
       "      <td>Two-Door Car</td>\n",
       "    </tr>\n",
       "    <tr>\n",
       "      <th>987</th>\n",
       "      <td>SA91515</td>\n",
       "      <td>California</td>\n",
       "      <td>M</td>\n",
       "      <td>Bachelor</td>\n",
       "      <td>399258.39</td>\n",
       "      <td>0</td>\n",
       "      <td>111.0</td>\n",
       "      <td>1/0/00</td>\n",
       "      <td>700.349052</td>\n",
       "      <td>Personal Auto</td>\n",
       "      <td>SUV</td>\n",
       "    </tr>\n",
       "  </tbody>\n",
       "</table>\n",
       "<p>2964 rows × 11 columns</p>\n",
       "</div>"
      ],
      "text/plain": [
       "    customer       state gender education  customer_lifetime_value  income  \\\n",
       "0    GS98873     Arizona      F  Bachelor                323912.47   16061   \n",
       "1    CW49887  California      F    Master                462680.11   79487   \n",
       "2    MY31220  California      F   College                899704.02   54230   \n",
       "3    UH35128      Oregon      F   College               2580706.30   71210   \n",
       "4    WH52799     Arizona      F   College                380812.21   94903   \n",
       "..       ...         ...    ...       ...                      ...     ...   \n",
       "983  HV85198     Arizona      M    Master                847141.75   63513   \n",
       "984  BS91566     Arizona      F   College                543121.91   58161   \n",
       "985  IL40123      Nevada      F   College                568964.41   83640   \n",
       "986  MY32149  California      F    Master                368672.38       0   \n",
       "987  SA91515  California      M  Bachelor                399258.39       0   \n",
       "\n",
       "     monthly_premium_auto number_of_open_complaints  policy_type  \\\n",
       "0                    88.0                    1/0/00   633.600000   \n",
       "1                   114.0                    1/0/00   547.200000   \n",
       "2                   112.0                    1/0/00   537.600000   \n",
       "3                   214.0                    1/1/00  1027.200000   \n",
       "4                    94.0                    1/0/00   451.200000   \n",
       "..                    ...                       ...          ...   \n",
       "983                  70.0                    1/0/00   185.667213   \n",
       "984                  68.0                    1/0/00   140.747286   \n",
       "985                  70.0                    1/0/00   471.050488   \n",
       "986                  96.0                    1/0/00    28.460568   \n",
       "987                 111.0                    1/0/00   700.349052   \n",
       "\n",
       "      vehicle_class total_claim_amount  \n",
       "0     Personal Auto      Four-Door Car  \n",
       "1      Special Auto                SUV  \n",
       "2     Personal Auto       Two-Door Car  \n",
       "3     Personal Auto         Luxury Car  \n",
       "4    Corporate Auto       Two-Door Car  \n",
       "..              ...                ...  \n",
       "983   Personal Auto      Four-Door Car  \n",
       "984  Corporate Auto      Four-Door Car  \n",
       "985  Corporate Auto       Two-Door Car  \n",
       "986   Personal Auto       Two-Door Car  \n",
       "987   Personal Auto                SUV  \n",
       "\n",
       "[2964 rows x 11 columns]"
      ]
     },
     "execution_count": 1894,
     "metadata": {},
     "output_type": "execute_result"
    }
   ],
   "source": [
    "combined_df= pd.concat(df_files)\n",
    "combined_df"
   ]
  },
  {
   "cell_type": "markdown",
   "id": "31b8a9e7-7db9-4604-991b-ef6771603e57",
   "metadata": {
    "editable": true,
    "id": "31b8a9e7-7db9-4604-991b-ef6771603e57",
    "slideshow": {
     "slide_type": ""
    },
    "tags": []
   },
   "source": [
    "# Challenge 2: Structuring Data"
   ]
  },
  {
   "cell_type": "markdown",
   "id": "a877fd6d-7a0c-46d2-9657-f25036e4ca4b",
   "metadata": {
    "id": "a877fd6d-7a0c-46d2-9657-f25036e4ca4b"
   },
   "source": [
    "In this challenge, we will continue to work with customer data from an insurance company, but we will use a dataset with more columns, called marketing_customer_analysis.csv, which can be found at the following link:\n",
    "\n",
    "https://raw.githubusercontent.com/data-bootcamp-v4/data/main/marketing_customer_analysis_clean.csv\n",
    "\n",
    "This dataset contains information such as customer demographics, policy details, vehicle information, and the customer's response to the last marketing campaign. Our goal is to explore and analyze this data by performing data cleaning, formatting, and structuring."
   ]
  },
  {
   "cell_type": "code",
   "execution_count": 1898,
   "id": "aa10d9b0-1c27-4d3f-a8e4-db6ab73bfd26",
   "metadata": {
    "id": "aa10d9b0-1c27-4d3f-a8e4-db6ab73bfd26"
   },
   "outputs": [],
   "source": [
    "# Your code goes here\n",
    "import pandas as pd\n",
    "import seaborn as sns\n",
    "import matplotlib.pyplot as plt\n",
    "url = 'https://raw.githubusercontent.com/data-bootcamp-v4/data/main/marketing_customer_analysis_clean.csv'\n",
    "df_marketing = pd.read_csv(url)"
   ]
  },
  {
   "cell_type": "code",
   "execution_count": 1899,
   "id": "254481d1-82ed-4d39-ab4a-ff12a40cf322",
   "metadata": {},
   "outputs": [
    {
     "name": "stdout",
     "output_type": "stream",
     "text": [
      "<class 'pandas.core.frame.DataFrame'>\n",
      "RangeIndex: 10910 entries, 0 to 10909\n",
      "Data columns (total 27 columns):\n",
      " #   Column                         Non-Null Count  Dtype  \n",
      "---  ------                         --------------  -----  \n",
      " 0   unnamed:_0                     10910 non-null  int64  \n",
      " 1   customer                       10910 non-null  object \n",
      " 2   state                          10910 non-null  object \n",
      " 3   customer_lifetime_value        10910 non-null  float64\n",
      " 4   response                       10910 non-null  object \n",
      " 5   coverage                       10910 non-null  object \n",
      " 6   education                      10910 non-null  object \n",
      " 7   effective_to_date              10910 non-null  object \n",
      " 8   employmentstatus               10910 non-null  object \n",
      " 9   gender                         10910 non-null  object \n",
      " 10  income                         10910 non-null  int64  \n",
      " 11  location_code                  10910 non-null  object \n",
      " 12  marital_status                 10910 non-null  object \n",
      " 13  monthly_premium_auto           10910 non-null  int64  \n",
      " 14  months_since_last_claim        10910 non-null  float64\n",
      " 15  months_since_policy_inception  10910 non-null  int64  \n",
      " 16  number_of_open_complaints      10910 non-null  float64\n",
      " 17  number_of_policies             10910 non-null  int64  \n",
      " 18  policy_type                    10910 non-null  object \n",
      " 19  policy                         10910 non-null  object \n",
      " 20  renew_offer_type               10910 non-null  object \n",
      " 21  sales_channel                  10910 non-null  object \n",
      " 22  total_claim_amount             10910 non-null  float64\n",
      " 23  vehicle_class                  10910 non-null  object \n",
      " 24  vehicle_size                   10910 non-null  object \n",
      " 25  vehicle_type                   10910 non-null  object \n",
      " 26  month                          10910 non-null  int64  \n",
      "dtypes: float64(4), int64(6), object(17)\n",
      "memory usage: 2.2+ MB\n"
     ]
    },
    {
     "data": {
      "text/html": [
       "<div>\n",
       "<style scoped>\n",
       "    .dataframe tbody tr th:only-of-type {\n",
       "        vertical-align: middle;\n",
       "    }\n",
       "\n",
       "    .dataframe tbody tr th {\n",
       "        vertical-align: top;\n",
       "    }\n",
       "\n",
       "    .dataframe thead th {\n",
       "        text-align: right;\n",
       "    }\n",
       "</style>\n",
       "<table border=\"1\" class=\"dataframe\">\n",
       "  <thead>\n",
       "    <tr style=\"text-align: right;\">\n",
       "      <th></th>\n",
       "      <th>unnamed:_0</th>\n",
       "      <th>customer_lifetime_value</th>\n",
       "      <th>income</th>\n",
       "      <th>monthly_premium_auto</th>\n",
       "      <th>months_since_last_claim</th>\n",
       "      <th>months_since_policy_inception</th>\n",
       "      <th>number_of_open_complaints</th>\n",
       "      <th>number_of_policies</th>\n",
       "      <th>total_claim_amount</th>\n",
       "      <th>month</th>\n",
       "    </tr>\n",
       "  </thead>\n",
       "  <tbody>\n",
       "    <tr>\n",
       "      <th>count</th>\n",
       "      <td>10910.000000</td>\n",
       "      <td>10910.000000</td>\n",
       "      <td>10910.000000</td>\n",
       "      <td>10910.000000</td>\n",
       "      <td>10910.000000</td>\n",
       "      <td>10910.000000</td>\n",
       "      <td>10910.000000</td>\n",
       "      <td>10910.000000</td>\n",
       "      <td>10910.000000</td>\n",
       "      <td>10910.000000</td>\n",
       "    </tr>\n",
       "    <tr>\n",
       "      <th>mean</th>\n",
       "      <td>5454.500000</td>\n",
       "      <td>8018.241094</td>\n",
       "      <td>37536.284785</td>\n",
       "      <td>93.196059</td>\n",
       "      <td>15.149071</td>\n",
       "      <td>48.091934</td>\n",
       "      <td>0.384256</td>\n",
       "      <td>2.979193</td>\n",
       "      <td>434.888330</td>\n",
       "      <td>1.466728</td>\n",
       "    </tr>\n",
       "    <tr>\n",
       "      <th>std</th>\n",
       "      <td>3149.590053</td>\n",
       "      <td>6885.081434</td>\n",
       "      <td>30359.195670</td>\n",
       "      <td>34.442532</td>\n",
       "      <td>9.783520</td>\n",
       "      <td>27.940675</td>\n",
       "      <td>0.885589</td>\n",
       "      <td>2.399359</td>\n",
       "      <td>292.180556</td>\n",
       "      <td>0.498915</td>\n",
       "    </tr>\n",
       "    <tr>\n",
       "      <th>min</th>\n",
       "      <td>0.000000</td>\n",
       "      <td>1898.007675</td>\n",
       "      <td>0.000000</td>\n",
       "      <td>61.000000</td>\n",
       "      <td>0.000000</td>\n",
       "      <td>0.000000</td>\n",
       "      <td>0.000000</td>\n",
       "      <td>1.000000</td>\n",
       "      <td>0.099007</td>\n",
       "      <td>1.000000</td>\n",
       "    </tr>\n",
       "    <tr>\n",
       "      <th>25%</th>\n",
       "      <td>2727.250000</td>\n",
       "      <td>4014.453113</td>\n",
       "      <td>0.000000</td>\n",
       "      <td>68.000000</td>\n",
       "      <td>7.000000</td>\n",
       "      <td>24.000000</td>\n",
       "      <td>0.000000</td>\n",
       "      <td>1.000000</td>\n",
       "      <td>271.082527</td>\n",
       "      <td>1.000000</td>\n",
       "    </tr>\n",
       "    <tr>\n",
       "      <th>50%</th>\n",
       "      <td>5454.500000</td>\n",
       "      <td>5771.147235</td>\n",
       "      <td>33813.500000</td>\n",
       "      <td>83.000000</td>\n",
       "      <td>15.000000</td>\n",
       "      <td>48.000000</td>\n",
       "      <td>0.000000</td>\n",
       "      <td>2.000000</td>\n",
       "      <td>382.564630</td>\n",
       "      <td>1.000000</td>\n",
       "    </tr>\n",
       "    <tr>\n",
       "      <th>75%</th>\n",
       "      <td>8181.750000</td>\n",
       "      <td>8992.779137</td>\n",
       "      <td>62250.750000</td>\n",
       "      <td>109.000000</td>\n",
       "      <td>23.000000</td>\n",
       "      <td>71.000000</td>\n",
       "      <td>0.384256</td>\n",
       "      <td>4.000000</td>\n",
       "      <td>547.200000</td>\n",
       "      <td>2.000000</td>\n",
       "    </tr>\n",
       "    <tr>\n",
       "      <th>max</th>\n",
       "      <td>10909.000000</td>\n",
       "      <td>83325.381190</td>\n",
       "      <td>99981.000000</td>\n",
       "      <td>298.000000</td>\n",
       "      <td>35.000000</td>\n",
       "      <td>99.000000</td>\n",
       "      <td>5.000000</td>\n",
       "      <td>9.000000</td>\n",
       "      <td>2893.239678</td>\n",
       "      <td>2.000000</td>\n",
       "    </tr>\n",
       "  </tbody>\n",
       "</table>\n",
       "</div>"
      ],
      "text/plain": [
       "         unnamed:_0  customer_lifetime_value        income  \\\n",
       "count  10910.000000             10910.000000  10910.000000   \n",
       "mean    5454.500000              8018.241094  37536.284785   \n",
       "std     3149.590053              6885.081434  30359.195670   \n",
       "min        0.000000              1898.007675      0.000000   \n",
       "25%     2727.250000              4014.453113      0.000000   \n",
       "50%     5454.500000              5771.147235  33813.500000   \n",
       "75%     8181.750000              8992.779137  62250.750000   \n",
       "max    10909.000000             83325.381190  99981.000000   \n",
       "\n",
       "       monthly_premium_auto  months_since_last_claim  \\\n",
       "count          10910.000000             10910.000000   \n",
       "mean              93.196059                15.149071   \n",
       "std               34.442532                 9.783520   \n",
       "min               61.000000                 0.000000   \n",
       "25%               68.000000                 7.000000   \n",
       "50%               83.000000                15.000000   \n",
       "75%              109.000000                23.000000   \n",
       "max              298.000000                35.000000   \n",
       "\n",
       "       months_since_policy_inception  number_of_open_complaints  \\\n",
       "count                   10910.000000               10910.000000   \n",
       "mean                       48.091934                   0.384256   \n",
       "std                        27.940675                   0.885589   \n",
       "min                         0.000000                   0.000000   \n",
       "25%                        24.000000                   0.000000   \n",
       "50%                        48.000000                   0.000000   \n",
       "75%                        71.000000                   0.384256   \n",
       "max                        99.000000                   5.000000   \n",
       "\n",
       "       number_of_policies  total_claim_amount         month  \n",
       "count        10910.000000        10910.000000  10910.000000  \n",
       "mean             2.979193          434.888330      1.466728  \n",
       "std              2.399359          292.180556      0.498915  \n",
       "min              1.000000            0.099007      1.000000  \n",
       "25%              1.000000          271.082527      1.000000  \n",
       "50%              2.000000          382.564630      1.000000  \n",
       "75%              4.000000          547.200000      2.000000  \n",
       "max              9.000000         2893.239678      2.000000  "
      ]
     },
     "execution_count": 1899,
     "metadata": {},
     "output_type": "execute_result"
    }
   ],
   "source": [
    "df_marketing.info()\n",
    "df_marketing.describe()"
   ]
  },
  {
   "cell_type": "code",
   "execution_count": 1900,
   "id": "ae9d35be-0d27-43e6-ba38-66a63c61ac16",
   "metadata": {},
   "outputs": [
    {
     "data": {
      "text/plain": [
       "unnamed:_0                       0\n",
       "customer                         0\n",
       "state                            0\n",
       "customer_lifetime_value          0\n",
       "response                         0\n",
       "coverage                         0\n",
       "education                        0\n",
       "effective_to_date                0\n",
       "employmentstatus                 0\n",
       "gender                           0\n",
       "income                           0\n",
       "location_code                    0\n",
       "marital_status                   0\n",
       "monthly_premium_auto             0\n",
       "months_since_last_claim          0\n",
       "months_since_policy_inception    0\n",
       "number_of_open_complaints        0\n",
       "number_of_policies               0\n",
       "policy_type                      0\n",
       "policy                           0\n",
       "renew_offer_type                 0\n",
       "sales_channel                    0\n",
       "total_claim_amount               0\n",
       "vehicle_class                    0\n",
       "vehicle_size                     0\n",
       "vehicle_type                     0\n",
       "month                            0\n",
       "dtype: int64"
      ]
     },
     "execution_count": 1900,
     "metadata": {},
     "output_type": "execute_result"
    }
   ],
   "source": [
    "df_marketing.isnull().sum()"
   ]
  },
  {
   "cell_type": "markdown",
   "id": "df35fd0d-513e-4e77-867e-429da10a9cc7",
   "metadata": {
    "id": "df35fd0d-513e-4e77-867e-429da10a9cc7"
   },
   "source": [
    "1. You work at the marketing department and you want to know which sales channel brought the most sales in terms of total revenue. Using pivot, create a summary table showing the total revenue for each sales channel (branch, call center, web, and mail).\n",
    "Round the total revenue to 2 decimal points.  Analyze the resulting table to draw insights."
   ]
  },
  {
   "cell_type": "markdown",
   "id": "640993b2-a291-436c-a34d-a551144f8196",
   "metadata": {
    "id": "640993b2-a291-436c-a34d-a551144f8196"
   },
   "source": [
    "2. Create a pivot table that shows the average customer lifetime value per gender and education level. Analyze the resulting table to draw insights."
   ]
  },
  {
   "cell_type": "code",
   "execution_count": 1906,
   "id": "35cbbdeb-4897-463a-a825-bf820ddd74a5",
   "metadata": {},
   "outputs": [
    {
     "data": {
      "text/plain": [
       "Index(['unnamed:_0', 'customer', 'state', 'customer_lifetime_value',\n",
       "       'response', 'coverage', 'education', 'effective_to_date',\n",
       "       'employmentstatus', 'gender', 'income', 'location_code',\n",
       "       'marital_status', 'monthly_premium_auto', 'months_since_last_claim',\n",
       "       'months_since_policy_inception', 'number_of_open_complaints',\n",
       "       'number_of_policies', 'policy_type', 'policy', 'renew_offer_type',\n",
       "       'sales_channel', 'total_claim_amount', 'vehicle_class', 'vehicle_size',\n",
       "       'vehicle_type', 'month'],\n",
       "      dtype='object')"
      ]
     },
     "execution_count": 1906,
     "metadata": {},
     "output_type": "execute_result"
    }
   ],
   "source": [
    "df_marketing.columns"
   ]
  },
  {
   "cell_type": "code",
   "execution_count": 1908,
   "id": "db5f5cc5-a442-4952-9c3a-ac1c4917ea30",
   "metadata": {},
   "outputs": [
    {
     "data": {
      "text/plain": [
       "Index(['number', 'customer', 'state', 'customer_lifetime_value', 'response',\n",
       "       'coverage', 'education', 'effective_to_date', 'employmentstatus',\n",
       "       'gender', 'income', 'location_code', 'marital_status',\n",
       "       'monthly_premium_auto', 'months_since_last_claim',\n",
       "       'months_since_policy_inception', 'number_of_open_complaints',\n",
       "       'number_of_policies', 'policy_type', 'policy', 'renew_offer_type',\n",
       "       'sales_channel', 'total_claim_amount', 'vehicle_class', 'vehicle_size',\n",
       "       'vehicle_type', 'month'],\n",
       "      dtype='object')"
      ]
     },
     "execution_count": 1908,
     "metadata": {},
     "output_type": "execute_result"
    }
   ],
   "source": [
    "df_marketing.columns = ['number', 'customer', 'state', 'customer_lifetime_value',\n",
    "       'response', 'coverage', 'education', 'effective_to_date',\n",
    "       'employmentstatus', 'gender', 'income', 'location_code',\n",
    "       'marital_status', 'monthly_premium_auto', 'months_since_last_claim',\n",
    "       'months_since_policy_inception', 'number_of_open_complaints',\n",
    "       'number_of_policies', 'policy_type', 'policy', 'renew_offer_type',\n",
    "       'sales_channel', 'total_claim_amount', 'vehicle_class', 'vehicle_size',\n",
    "       'vehicle_type', 'month']\n",
    "df_marketing.columns"
   ]
  },
  {
   "cell_type": "code",
   "execution_count": 1910,
   "id": "9c4dfa54-3ff5-4b29-b2c4-6fae571be495",
   "metadata": {},
   "outputs": [
    {
     "data": {
      "text/plain": [
       "array(['Agent', 'Call Center', 'Branch', 'Web'], dtype=object)"
      ]
     },
     "execution_count": 1910,
     "metadata": {},
     "output_type": "execute_result"
    }
   ],
   "source": [
    "df_marketing[\"sales_channel\"].unique()"
   ]
  },
  {
   "cell_type": "code",
   "execution_count": 1912,
   "id": "ee65ba87-22dd-45ae-966c-ad4d63fb7971",
   "metadata": {},
   "outputs": [
    {
     "data": {
      "text/plain": [
       "9"
      ]
     },
     "execution_count": 1912,
     "metadata": {},
     "output_type": "execute_result"
    }
   ],
   "source": [
    "df_marketing[\"number_of_policies\"].nunique()"
   ]
  },
  {
   "cell_type": "code",
   "execution_count": 1914,
   "id": "1b5b032c-b56e-4957-acf2-b49129c6a3bf",
   "metadata": {},
   "outputs": [],
   "source": [
    "#total revenue\n",
    "df_marketing['monthly_premium_auto'] = df_marketing['monthly_premium_auto'].astype(float)\n",
    "df_marketing[\"number_of_policies\"] = df_marketing[\"number_of_policies\"].astype(int)\n",
    "\n",
    "df_marketing['estimated_revenue'] = df_marketing['monthly_premium_auto'] * df_marketing['number_of_policies']"
   ]
  },
  {
   "cell_type": "code",
   "execution_count": 1916,
   "id": "11671f1b-007e-4a4c-8bbb-3df6384315c5",
   "metadata": {},
   "outputs": [
    {
     "data": {
      "text/plain": [
       "0         549.0\n",
       "1          64.0\n",
       "2         200.0\n",
       "3         194.0\n",
       "4         819.0\n",
       "          ...  \n",
       "10905    1771.0\n",
       "10906     390.0\n",
       "10907     402.0\n",
       "10908     948.0\n",
       "10909     303.0\n",
       "Name: estimated_revenue, Length: 10910, dtype: float64"
      ]
     },
     "execution_count": 1916,
     "metadata": {},
     "output_type": "execute_result"
    }
   ],
   "source": [
    "df_marketing['estimated_revenue']"
   ]
  },
  {
   "cell_type": "code",
   "execution_count": 1918,
   "id": "5765ff1b-b41d-41db-be22-6d6f057794fe",
   "metadata": {},
   "outputs": [
    {
     "data": {
      "text/html": [
       "<div>\n",
       "<style scoped>\n",
       "    .dataframe tbody tr th:only-of-type {\n",
       "        vertical-align: middle;\n",
       "    }\n",
       "\n",
       "    .dataframe tbody tr th {\n",
       "        vertical-align: top;\n",
       "    }\n",
       "\n",
       "    .dataframe thead th {\n",
       "        text-align: right;\n",
       "    }\n",
       "</style>\n",
       "<table border=\"1\" class=\"dataframe\">\n",
       "  <thead>\n",
       "    <tr style=\"text-align: right;\">\n",
       "      <th></th>\n",
       "      <th>estimated_revenue</th>\n",
       "    </tr>\n",
       "    <tr>\n",
       "      <th>sales_channel</th>\n",
       "      <th></th>\n",
       "    </tr>\n",
       "  </thead>\n",
       "  <tbody>\n",
       "    <tr>\n",
       "      <th>Agent</th>\n",
       "      <td>1130616.0</td>\n",
       "    </tr>\n",
       "    <tr>\n",
       "      <th>Branch</th>\n",
       "      <td>818951.0</td>\n",
       "    </tr>\n",
       "    <tr>\n",
       "      <th>Call Center</th>\n",
       "      <td>589902.0</td>\n",
       "    </tr>\n",
       "    <tr>\n",
       "      <th>Web</th>\n",
       "      <td>471197.0</td>\n",
       "    </tr>\n",
       "  </tbody>\n",
       "</table>\n",
       "</div>"
      ],
      "text/plain": [
       "               estimated_revenue\n",
       "sales_channel                   \n",
       "Agent                  1130616.0\n",
       "Branch                  818951.0\n",
       "Call Center             589902.0\n",
       "Web                     471197.0"
      ]
     },
     "execution_count": 1918,
     "metadata": {},
     "output_type": "execute_result"
    }
   ],
   "source": [
    "#pivot table\n",
    "sales_channel_revenue = df_marketing.pivot_table(\n",
    "    index='sales_channel',\n",
    "    values='estimated_revenue',\n",
    "    aggfunc='sum'\n",
    ").round(2)\n",
    "sales_channel_revenue"
   ]
  },
  {
   "cell_type": "code",
   "execution_count": 1920,
   "id": "5d6df5b8-2ce9-4f13-9f2c-2f307d118e49",
   "metadata": {},
   "outputs": [],
   "source": [
    "#top channel is Agent sales chanel, web is at the last place"
   ]
  },
  {
   "cell_type": "code",
   "execution_count": 1922,
   "id": "9524295b-f6c1-48f0-a49f-6ef86beef171",
   "metadata": {},
   "outputs": [],
   "source": [
    "#pivot table that shows the average customer lifetime value per gender and education level."
   ]
  },
  {
   "cell_type": "code",
   "execution_count": 1924,
   "id": "564fc149-8e71-4f04-ad4f-888d021102ac",
   "metadata": {},
   "outputs": [
    {
     "data": {
      "text/html": [
       "<div>\n",
       "<style scoped>\n",
       "    .dataframe tbody tr th:only-of-type {\n",
       "        vertical-align: middle;\n",
       "    }\n",
       "\n",
       "    .dataframe tbody tr th {\n",
       "        vertical-align: top;\n",
       "    }\n",
       "\n",
       "    .dataframe thead th {\n",
       "        text-align: right;\n",
       "    }\n",
       "</style>\n",
       "<table border=\"1\" class=\"dataframe\">\n",
       "  <thead>\n",
       "    <tr style=\"text-align: right;\">\n",
       "      <th>education</th>\n",
       "      <th>Bachelor</th>\n",
       "      <th>College</th>\n",
       "      <th>Doctor</th>\n",
       "      <th>High School or Below</th>\n",
       "      <th>Master</th>\n",
       "    </tr>\n",
       "    <tr>\n",
       "      <th>gender</th>\n",
       "      <th></th>\n",
       "      <th></th>\n",
       "      <th></th>\n",
       "      <th></th>\n",
       "      <th></th>\n",
       "    </tr>\n",
       "  </thead>\n",
       "  <tbody>\n",
       "    <tr>\n",
       "      <th>F</th>\n",
       "      <td>7874.27</td>\n",
       "      <td>7748.82</td>\n",
       "      <td>7328.51</td>\n",
       "      <td>8675.22</td>\n",
       "      <td>8157.05</td>\n",
       "    </tr>\n",
       "    <tr>\n",
       "      <th>M</th>\n",
       "      <td>7703.60</td>\n",
       "      <td>8052.46</td>\n",
       "      <td>7415.33</td>\n",
       "      <td>8149.69</td>\n",
       "      <td>8168.83</td>\n",
       "    </tr>\n",
       "  </tbody>\n",
       "</table>\n",
       "</div>"
      ],
      "text/plain": [
       "education  Bachelor  College   Doctor  High School or Below   Master\n",
       "gender                                                              \n",
       "F           7874.27  7748.82  7328.51               8675.22  8157.05\n",
       "M           7703.60  8052.46  7415.33               8149.69  8168.83"
      ]
     },
     "execution_count": 1924,
     "metadata": {},
     "output_type": "execute_result"
    }
   ],
   "source": [
    "tabel= df_marketing.pivot_table(\n",
    "    index=\"gender\",\n",
    "    columns=\"education\",\n",
    "    values=\"customer_lifetime_value\",\n",
    "    aggfunc=\"mean\"\n",
    ").round(2)\n",
    "\n",
    "tabel"
   ]
  },
  {
   "cell_type": "code",
   "execution_count": 1926,
   "id": "f1d4e195-ecc2-4c50-af73-1bc5647c9710",
   "metadata": {},
   "outputs": [],
   "source": [
    "#M and F are close to avrege in all education level, except on Higher school or below where F have higher average CLV and M, M have higher CLV in Collaege education "
   ]
  },
  {
   "cell_type": "markdown",
   "id": "32c7f2e5-3d90-43e5-be33-9781b6069198",
   "metadata": {
    "id": "32c7f2e5-3d90-43e5-be33-9781b6069198"
   },
   "source": [
    "## Bonus\n",
    "\n",
    "You work at the customer service department and you want to know which months had the highest number of complaints by policy type category. Create a summary table showing the number of complaints by policy type and month.\n",
    "Show it in a long format table."
   ]
  },
  {
   "cell_type": "markdown",
   "id": "e3d09a8f-953c-448a-a5f8-2e5a8cca7291",
   "metadata": {
    "id": "e3d09a8f-953c-448a-a5f8-2e5a8cca7291"
   },
   "source": [
    "*In data analysis, a long format table is a way of structuring data in which each observation or measurement is stored in a separate row of the table. The key characteristic of a long format table is that each column represents a single variable, and each row represents a single observation of that variable.*\n",
    "\n",
    "*More information about long and wide format tables here: https://www.statology.org/long-vs-wide-data/*"
   ]
  },
  {
   "cell_type": "code",
   "execution_count": 1930,
   "id": "3a069e0b-b400-470e-904d-d17582191be4",
   "metadata": {
    "editable": true,
    "id": "3a069e0b-b400-470e-904d-d17582191be4",
    "slideshow": {
     "slide_type": ""
    },
    "tags": []
   },
   "outputs": [
    {
     "data": {
      "text/html": [
       "<div>\n",
       "<style scoped>\n",
       "    .dataframe tbody tr th:only-of-type {\n",
       "        vertical-align: middle;\n",
       "    }\n",
       "\n",
       "    .dataframe tbody tr th {\n",
       "        vertical-align: top;\n",
       "    }\n",
       "\n",
       "    .dataframe thead th {\n",
       "        text-align: right;\n",
       "    }\n",
       "</style>\n",
       "<table border=\"1\" class=\"dataframe\">\n",
       "  <thead>\n",
       "    <tr style=\"text-align: right;\">\n",
       "      <th></th>\n",
       "      <th>month</th>\n",
       "      <th>policy_type</th>\n",
       "      <th>number_of_complaints</th>\n",
       "    </tr>\n",
       "  </thead>\n",
       "  <tbody>\n",
       "    <tr>\n",
       "      <th>0</th>\n",
       "      <td>1</td>\n",
       "      <td>Corporate Auto</td>\n",
       "      <td>1252</td>\n",
       "    </tr>\n",
       "    <tr>\n",
       "      <th>1</th>\n",
       "      <td>1</td>\n",
       "      <td>Personal Auto</td>\n",
       "      <td>4329</td>\n",
       "    </tr>\n",
       "    <tr>\n",
       "      <th>2</th>\n",
       "      <td>1</td>\n",
       "      <td>Special Auto</td>\n",
       "      <td>237</td>\n",
       "    </tr>\n",
       "    <tr>\n",
       "      <th>3</th>\n",
       "      <td>2</td>\n",
       "      <td>Corporate Auto</td>\n",
       "      <td>1089</td>\n",
       "    </tr>\n",
       "    <tr>\n",
       "      <th>4</th>\n",
       "      <td>2</td>\n",
       "      <td>Personal Auto</td>\n",
       "      <td>3799</td>\n",
       "    </tr>\n",
       "    <tr>\n",
       "      <th>5</th>\n",
       "      <td>2</td>\n",
       "      <td>Special Auto</td>\n",
       "      <td>204</td>\n",
       "    </tr>\n",
       "  </tbody>\n",
       "</table>\n",
       "</div>"
      ],
      "text/plain": [
       "   month     policy_type  number_of_complaints\n",
       "0      1  Corporate Auto                  1252\n",
       "1      1   Personal Auto                  4329\n",
       "2      1    Special Auto                   237\n",
       "3      2  Corporate Auto                  1089\n",
       "4      2   Personal Auto                  3799\n",
       "5      2    Special Auto                   204"
      ]
     },
     "execution_count": 1930,
     "metadata": {},
     "output_type": "execute_result"
    }
   ],
   "source": [
    "# Your code goes here\n",
    "summary = df_marketing.groupby(['month', 'policy_type']).size().reset_index(name='number_of_complaints')\n",
    "summary"
   ]
  },
  {
   "cell_type": "code",
   "execution_count": null,
   "id": "661994d3-619d-43ce-af08-dbcd971ae8d2",
   "metadata": {},
   "outputs": [],
   "source": []
  }
 ],
 "metadata": {
  "colab": {
   "provenance": []
  },
  "kernelspec": {
   "display_name": "Python 3 (ipykernel)",
   "language": "python",
   "name": "python3"
  },
  "language_info": {
   "codemirror_mode": {
    "name": "ipython",
    "version": 3
   },
   "file_extension": ".py",
   "mimetype": "text/x-python",
   "name": "python",
   "nbconvert_exporter": "python",
   "pygments_lexer": "ipython3",
   "version": "3.12.4"
  }
 },
 "nbformat": 4,
 "nbformat_minor": 5
}
